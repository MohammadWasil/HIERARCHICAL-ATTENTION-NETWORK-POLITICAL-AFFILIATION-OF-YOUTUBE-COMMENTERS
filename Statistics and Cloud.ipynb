{
 "cells": [
  {
   "cell_type": "code",
   "execution_count": 2,
   "id": "b6d5cc49",
   "metadata": {},
   "outputs": [],
   "source": [
    "import time, requests, re\n",
    "from urllib.parse import urlparse\n",
    "from bs4 import BeautifulSoup\n",
    "from tqdm.notebook import tqdm\n",
    "from collections import defaultdict\n",
    "from tweepy import OAuthHandler, API\n",
    "\n",
    "from urllib.parse import parse_qs, quote, unquote, urlparse\n",
    "import pandas as pd\n",
    "import pprint\n",
    "import json, os\n",
    "\n",
    "from difflib import SequenceMatcher\n",
    "import time, requests, re, random, tldextract\n",
    "\n",
    "from googleapiclient.discovery import build"
   ]
  },
  {
   "cell_type": "code",
   "execution_count": 13,
   "id": "a0da2afd",
   "metadata": {},
   "outputs": [
    {
     "name": "stderr",
     "output_type": "stream",
     "text": [
      "UsageError: Line magic function `%` not found.\n"
     ]
    }
   ],
   "source": [
    "from wordcloud import WordCloud, STOPWORDS, ImageColorGenerator\n",
    "from PIL import Image\n",
    "import matplotlib.pyplot as plt\n",
    "% matplotlib inline"
   ]
  },
  {
   "cell_type": "code",
   "execution_count": 2,
   "id": "1b51f329",
   "metadata": {},
   "outputs": [],
   "source": [
    "pd.set_option('display.max_columns', None)\n",
    "pd.set_option('display.max_rows', None)"
   ]
  },
  {
   "cell_type": "code",
   "execution_count": 3,
   "id": "c9d09637",
   "metadata": {},
   "outputs": [],
   "source": [
    "pp = pprint.PrettyPrinter(width=41, compact=True)\n",
    "\n",
    "DIRECTORY_PATH = \"D:/MSc Data Science/Elective Modules - Research Modules/[INF-DS-RMB] Research Module B/RM Code/Sentiment-Classification-Youtube-Comments-Political-Affiliation/\""
   ]
  },
  {
   "cell_type": "code",
   "execution_count": 4,
   "id": "adbd52d1",
   "metadata": {},
   "outputs": [],
   "source": [
    "# counting the number of videos scraped till now"
   ]
  },
  {
   "cell_type": "code",
   "execution_count": 29,
   "id": "389e36b6",
   "metadata": {},
   "outputs": [],
   "source": [
    "def count_num_videos_and_channels(leaning, input_file):\n",
    "    list_video_ids = []\n",
    "    number_of_channels = 0\n",
    "    with open(input_file, 'r') as fin:\n",
    "        for line in fin:\n",
    "            number_of_channels += 1\n",
    "            channel_videos = json.loads(line.rstrip())\n",
    "            for video in channel_videos['video_ids']:\n",
    "                list_video_ids.append(video)\n",
    "    print(\"Total {} Leaning YT Channels: {} | And total Videos:: {}\".format(leaning, number_of_channels, len(list_video_ids)))"
   ]
  },
  {
   "cell_type": "code",
   "execution_count": 30,
   "id": "49832f1c",
   "metadata": {},
   "outputs": [
    {
     "name": "stdout",
     "output_type": "stream",
     "text": [
      "Total Left Leaning YT Channels: 525 | And total Videos:: 165067\n",
      "Total Centre Right Leaning YT Channels: 189 | And total Videos:: 59300\n",
      "Total Right Leaning YT Channels: 109 | And total Videos:: 23502\n"
     ]
    }
   ],
   "source": [
    "input_file = os.path.join(DIRECTORY_PATH, \"data/6. video_ids.json\")\n",
    "count_num_videos_and_channels(\"Left\", input_file)\n",
    "\n",
    "input_file = os.path.join(DIRECTORY_PATH, \"data/6. video_ids_centre_right.json\")\n",
    "count_num_videos_and_channels(\"Centre Right\", input_file)\n",
    "\n",
    "input_file = os.path.join(DIRECTORY_PATH, \"data/6. video_ids_right.json\")\n",
    "count_num_videos_and_channels(\"Right\", input_file)"
   ]
  },
  {
   "cell_type": "code",
   "execution_count": 9,
   "id": "b1d8d551",
   "metadata": {},
   "outputs": [],
   "source": [
    "# reading the comments form json and geenerating statistics"
   ]
  },
  {
   "cell_type": "code",
   "execution_count": 15,
   "id": "f027425b",
   "metadata": {},
   "outputs": [],
   "source": [
    "french_stop_words = [\"a\",\"à\",\"â\",\"abord\",\"afin\",\"cest\", \"ah\",\"ai\",\"aie\",\"ainsi\",\"allaient\",\"allo\",\"allô\",\"allons\",\"après\",\"assez\",\"attendu\",\"au\",\"aucun\",\"aucune\",\"aujourd\",\"aujourd'hui\",\"auquel\",\"aura\",\"auront\",\"aussi\",\"autre\",\"autres\",\"aux\",\"auxquelles\",\"auxquels\",\"avaient\",\"avais\",\"avait\",\"avant\",\"avec\",\"avoir\",\"ayant\",\"b\",\"bah\",\"beaucoup\",\"bien\",\"bigre\",\"boum\",\"bravo\",\"brrr\",\"c\",\"ça\",\"car\",\"ce\",\"ceci\",\"cela\",\"celle\",\"celle-ci\",\"celle-là\",\"celles\",\"celles-ci\",\"celles-là\",\"celui\",\"celui-ci\",\"celui-là\",\"cent\",\"cependant\",\"certain\",\"certaine\",\"certaines\",\"certains\",\"certes\",\"ces\",\"cet\",\"cette\",\"ceux\",\"ceux-ci\",\"ceux-là\",\"chacun\",\"chaque\",\"cher\",\"chère\",\"chères\",\"chers\",\"chez\",\"chiche\",\"chut\",\"ci\",\"cinq\",\"cinquantaine\",\"cinquante\",\"cinquantième\",\"cinquième\",\"clac\",\"clic\",\"combien\",\"comme\",\"comment\",\"compris\",\"concernant\",\"contre\",\"couic\",\"crac\",\"d\",\"da\",\"dans\",\"de\",\"debout\",\"dedans\",\"dehors\",\"delà\",\"depuis\",\"derrière\",\"des\",\"dès\",\"désormais\",\"desquelles\",\"desquels\",\"dessous\",\"dessus\",\"deux\",\"deuxième\",\"deuxièmement\",\"devant\",\"devers\",\"devra\",\"différent\",\"différente\",\"différentes\",\"différents\",\"dire\",\"divers\",\"diverse\",\"diverses\",\"dix\",\"dix-huit\",\"dixième\",\"dix-neuf\",\"dix-sept\",\"doit\",\"doivent\",\"donc\",\"dont\",\"douze\",\"douzième\",\"dring\",\"du\",\"duquel\",\"durant\",\"e\",\"effet\",\"eh\",\"elle\",\"elle-même\",\"elles\",\"elles-mêmes\",\"en\",\"encore\",\"entre\",\"envers\",\"environ\",\"es\",\"ès\",\"est\",\"et\",\"etant\",\"étaient\",\"étais\",\"était\",\"étant\",\"etc\",\"été\",\"etre\",\"être\",\"eu\",\"euh\",\"eux\",\"eux-mêmes\",\"excepté\",\"f\",\"façon\",\"fais\",\"faisaient\",\"faisant\",\"fait\",\"feront\",\"fi\",\"flac\",\"floc\",\"font\",\"g\",\"gens\",\"h\",\"ha\",\"hé\",\"hein\",\"hélas\",\"hem\",\"hep\",\"hi\",\"ho\",\"holà\",\"hop\",\"hormis\",\"hors\",\"hou\",\"houp\",\"hue\",\"hui\",\"huit\",\"huitième\",\"hum\",\"hurrah\",\"i\",\"il\",\"ils\",\"importe\",\"j\",\"je\",\"jusqu\",\"jusque\",\"k\",\"l\",\"la\",\"là\",\"laquelle\",\"las\",\"le\",\"lequel\",\"les\",\"lès\",\"lesquelles\",\"lesquels\",\"leur\",\"leurs\",\"longtemps\",\"lorsque\",\"lui\",\"lui-même\",\"m\",\"ma\",\"maint\",\"mais\",\"malgré\",\"me\",\"même\",\"mêmes\",\"merci\",\"mes\",\"mien\",\"mienne\",\"miennes\",\"miens\",\"mille\",\"mince\",\"moi\",\"moi-même\",\"moins\",\"mon\",\"moyennant\",\"n\",\"na\",\"ne\",\"néanmoins\",\"neuf\",\"neuvième\",\"ni\",\"nombreuses\",\"nombreux\",\"non\",\"nos\",\"notre\",\"nôtre\",\"nôtres\",\"nous\",\"nous-mêmes\",\"nul\",\"o\",\"o|\",\"ô\",\"oh\",\"ohé\",\"olé\",\"ollé\",\"on\",\"ont\",\"onze\",\"onzième\",\"ore\",\"ou\",\"où\",\"ouf\",\"ouias\",\"oust\",\"ouste\",\"outre\",\"p\",\"paf\",\"pan\",\"par\",\"parmi\",\"partant\",\"particulier\",\"particulière\",\"particulièrement\",\"pas\",\"passé\",\"pendant\",\"personne\",\"peu\",\"peut\",\"peuvent\",\"peux\",\"pff\",\"pfft\",\"pfut\",\"pif\",\"plein\",\"plouf\",\"plus\",\"plusieurs\",\"plutôt\",\"pouah\",\"pour\",\"pourquoi\",\"premier\",\"première\",\"premièrement\",\"près\",\"proche\",\"psitt\",\"puisque\",\"q\",\"qu\",\"quand\",\"quant\",\"quanta\",\"quant-à-soi\",\"quarante\",\"quatorze\",\"quatre\",\"quatre-vingt\",\"quatrième\",\"quatrièmement\",\"que\",\"quel\",\"quelconque\",\"quelle\",\"quelles\",\"quelque\",\"quelques\",\"quelqu'un\",\"quels\",\"qui\",\"quiconque\",\"quinze\",\"quoi\",\"quoique\",\"r\",\"revoici\",\"revoilà\",\"rien\",\"s\",\"sa\",\"sacrebleu\",\"sans\",\"sapristi\",\"sauf\",\"se\",\"seize\",\"selon\",\"sept\",\"septième\",\"sera\",\"seront\",\"ses\",\"si\",\"sien\",\"sienne\",\"siennes\",\"siens\",\"sinon\",\"six\",\"sixième\",\"soi\",\"soi-même\",\"soit\",\"soixante\",\"son\",\"sont\",\"sous\",\"stop\",\"suis\",\"suivant\",\"sur\",\"surtout\",\"t\",\"ta\",\"tac\",\"tant\",\"te\",\"té\",\"tel\",\"telle\",\"tellement\",\"telles\",\"tels\",\"tenant\",\"tes\",\"tic\",\"tien\",\"tienne\",\"tiennes\",\"tiens\",\"toc\",\"toi\",\"toi-même\",\"ton\",\"touchant\",\"toujours\",\"tous\",\"tout\",\"toute\",\"toutes\",\"treize\",\"trente\",\"très\",\"trois\",\"troisième\",\"troisièmement\",\"trop\",\"tsoin\",\"tsouin\",\"tu\",\"u\",\"un\",\"une\",\"unes\",\"uns\",\"v\",\"va\",\"vais\",\"vas\",\"vé\",\"vers\",\"via\",\"vif\",\"vifs\",\"vingt\",\"vivat\",\"vive\",\"vives\",\"vlan\",\"voici\",\"voilà\",\"vont\",\"vos\",\"votre\",\"vôtre\",\"vôtres\",\"vous\",\"vous-mêmes\",\"vu\",\"w\",\"x\",\"y\",\"z\",\"zut\",\"alors\",\"aucuns\",\"bon\",\"devrait\",\"dos\",\"droite\",\"début\",\"essai\",\"faites\",\"fois\",\"force\",\"haut\",\"ici\",\"juste\",\"maintenant\",\"mine\",\"mot\",\"nommés\",\"nouveaux\",\"parce\",\"parole\",\"personnes\",\"pièce\",\"plupart\",\"seulement\",\"soyez\",\"sujet\",\"tandis\",\"valeur\",\"voie\",\"voient\",\"état\",\"étions\"]"
   ]
  },
  {
   "cell_type": "code",
   "execution_count": 16,
   "id": "7a8de946",
   "metadata": {},
   "outputs": [],
   "source": [
    "german_stop_words = [\"a\",\"ab\",\"aber\",\"ach\",\"acht\",\"achte\",\"achten\",\"achter\",\"achtes\",\"ag\",\"alle\",\"allein\",\"allem\",\"allen\",\"aller\",\"allerdings\",\"alles\",\"allgemeinen\",\"als\",\"also\",\"am\",\"an\",\"andere\",\"anderen\",\"andern\",\"anders\",\"au\",\"auch\",\"auf\",\"aus\",\"ausser\",\"außer\",\"ausserdem\",\"außerdem\",\"b\",\"bald\",\"bei\",\"beide\",\"beiden\",\"beim\",\"beispiel\",\"bekannt\",\"bereits\",\"besonders\",\"besser\",\"besten\",\"bin\",\"bis\",\"bisher\",\"bist\",\"c\",\"d\",\"da\",\"dabei\",\"dadurch\",\"dafür\",\"dagegen\",\"daher\",\"dahin\",\"dahinter\",\"damals\",\"damit\",\"danach\",\"daneben\",\"dank\",\"dann\",\"daran\",\"darauf\",\"daraus\",\"darf\",\"darfst\",\"darin\",\"darüber\",\"darum\",\"darunter\",\"das\",\"dasein\",\"daselbst\",\"dass\",\"daß\",\"dasselbe\",\"davon\",\"davor\",\"dazu\",\"dazwischen\",\"dein\",\"deine\",\"deinem\",\"deiner\",\"dem\",\"dementsprechend\",\"demgegenüber\",\"demgemäss\",\"demgemäß\",\"demselben\",\"demzufolge\",\"den\",\"denen\",\"denn\",\"denselben\",\"der\",\"deren\",\"derjenige\",\"derjenigen\",\"dermassen\",\"dermaßen\",\"derselbe\",\"derselben\",\"des\",\"deshalb\",\"desselben\",\"dessen\",\"deswegen\",\"d.h\",\"dich\",\"die\",\"diejenige\",\"diejenigen\",\"dies\",\"diese\",\"dieselbe\",\"dieselben\",\"diesem\",\"diesen\",\"dieser\",\"dieses\",\"dir\",\"doch\",\"dort\",\"drei\",\"drin\",\"dritte\",\"dritten\",\"dritter\",\"drittes\",\"du\",\"durch\",\"durchaus\",\"dürfen\",\"dürft\",\"durfte\",\"durften\",\"e\",\"eben\",\"ebenso\",\"ehrlich\",\"ei\",\"ei,\",\"eigen\",\"eigene\",\"eigenen\",\"eigener\",\"eigenes\",\"ein\",\"einander\",\"eine\",\"einem\",\"einen\",\"einer\",\"eines\",\"einige\",\"einigen\",\"einiger\",\"einiges\",\"einmal\",\"eins\",\"elf\",\"en\",\"ende\",\"endlich\",\"entweder\",\"er\",\"Ernst\",\"erst\",\"erste\",\"ersten\",\"erster\",\"erstes\",\"es\",\"etwa\",\"etwas\",\"euch\",\"f\",\"früher\",\"fünf\",\"fünfte\",\"fünften\",\"fünfter\",\"fünftes\",\"für\",\"g\",\"gab\",\"ganz\",\"ganze\",\"ganzen\",\"ganzer\",\"ganzes\",\"gar\",\"gedurft\",\"gegen\",\"gegenüber\",\"gehabt\",\"gehen\",\"geht\",\"gekannt\",\"gekonnt\",\"gemacht\",\"gemocht\",\"gemusst\",\"genug\",\"gerade\",\"gern\",\"gesagt\",\"geschweige\",\"gewesen\",\"gewollt\",\"geworden\",\"gibt\",\"ging\",\"gleich\",\"gott\",\"gross\",\"groß\",\"grosse\",\"große\",\"grossen\",\"großen\",\"grosser\",\"großer\",\"grosses\",\"großes\",\"gut\",\"gute\",\"guter\",\"gutes\",\"h\",\"habe\",\"haben\",\"habt\",\"hast\",\"hat\",\"hatte\",\"hätte\",\"hatten\",\"hätten\",\"heisst\",\"her\",\"heute\",\"hier\",\"hin\",\"hinter\",\"hoch\",\"i\",\"ich\",\"ihm\",\"ihn\",\"ihnen\",\"ihr\",\"ihre\",\"ihrem\",\"ihren\",\"ihrer\",\"ihres\",\"im\",\"immer\",\"in\",\"indem\",\"infolgedessen\",\"ins\",\"irgend\",\"ist\",\"j\",\"ja\",\"jahr\",\"jahre\",\"jahren\",\"je\",\"jede\",\"jedem\",\"jeden\",\"jeder\",\"jedermann\",\"jedermanns\",\"jedoch\",\"jemand\",\"jemandem\",\"jemanden\",\"jene\",\"jenem\",\"jenen\",\"jener\",\"jenes\",\"jetzt\",\"k\",\"kam\",\"kann\",\"kannst\",\"kaum\",\"kein\",\"keine\",\"keinem\",\"keinen\",\"keiner\",\"kleine\",\"kleinen\",\"kleiner\",\"kleines\",\"kommen\",\"kommt\",\"können\",\"könnt\",\"konnte\",\"könnte\",\"konnten\",\"kurz\",\"l\",\"lang\",\"lange\",\"leicht\",\"leide\",\"lieber\",\"los\",\"m\",\"machen\",\"macht\",\"machte\",\"mag\",\"magst\",\"mahn\",\"man\",\"manche\",\"manchem\",\"manchen\",\"mancher\",\"manches\",\"mann\",\"mehr\",\"mein\",\"meine\",\"meinem\",\"meinen\",\"meiner\",\"meines\",\"mensch\",\"menschen\",\"mich\",\"mir\",\"mit\",\"mittel\",\"mochte\",\"möchte\",\"mochten\",\"mögen\",\"möglich\",\"mögt\",\"morgen\",\"muss\",\"muß\",\"müssen\",\"musst\",\"müsst\",\"musste\",\"mussten\",\"n\",\"na\",\"nach\",\"nachdem\",\"nahm\",\"natürlich\",\"neben\",\"nein\",\"neue\",\"neuen\",\"neun\",\"neunte\",\"neunten\",\"neunter\",\"neuntes\",\"nicht\",\"nichts\",\"nie\",\"niemand\",\"niemandem\",\"niemanden\",\"noch\",\"nun\",\"nur\",\"o\",\"ob\",\"oben\",\"oder\",\"offen\",\"oft\",\"ohne\",\"Ordnung\",\"p\",\"q\",\"r\",\"recht\",\"rechte\",\"rechten\",\"rechter\",\"rechtes\",\"richtig\",\"rund\",\"s\",\"sa\",\"sache\",\"sagt\",\"sagte\",\"sah\",\"satt\",\"schlecht\",\"Schluss\",\"schon\",\"sechs\",\"sechste\",\"sechsten\",\"sechster\",\"sechstes\",\"sehr\",\"sei\",\"seid\",\"seien\",\"sein\",\"seine\",\"seinem\",\"seinen\",\"seiner\",\"seines\",\"seit\",\"seitdem\",\"selbst\",\"sich\",\"sie\",\"sieben\",\"siebente\",\"siebenten\",\"siebenter\",\"siebentes\",\"sind\",\"so\",\"solang\",\"solche\",\"solchem\",\"solchen\",\"solcher\",\"solches\",\"soll\",\"sollen\",\"sollte\",\"sollten\",\"sondern\",\"sonst\",\"sowie\",\"später\",\"statt\",\"t\",\"tag\",\"tage\",\"tagen\",\"tat\",\"teil\",\"tel\",\"tritt\",\"trotzdem\",\"tun\",\"u\",\"über\",\"überhaupt\",\"übrigens\",\"uhr\",\"um\",\"und\",\"und?\",\"uns\",\"unser\",\"unsere\",\"unserer\",\"unter\",\"v\",\"vergangenen\",\"viel\",\"viele\",\"vielem\",\"vielen\",\"vielleicht\",\"vier\",\"vierte\",\"vierten\",\"vierter\",\"viertes\",\"vom\",\"von\",\"vor\",\"w\",\"wahr?\",\"während\",\"währenddem\",\"währenddessen\",\"wann\",\"war\",\"wäre\",\"waren\",\"wart\",\"warum\",\"was\",\"wegen\",\"weil\",\"weit\",\"weiter\",\"weitere\",\"weiteren\",\"weiteres\",\"welche\",\"welchem\",\"welchen\",\"welcher\",\"welches\",\"wem\",\"wen\",\"wenig\",\"wenige\",\"weniger\",\"weniges\",\"wenigstens\",\"wenn\",\"wer\",\"werde\",\"werden\",\"werdet\",\"wessen\",\"wie\",\"wieder\",\"will\",\"willst\",\"wir\",\"wird\",\"wirklich\",\"wirst\",\"wo\",\"wohl\",\"wollen\",\"wollt\",\"wollte\",\"wollten\",\"worden\",\"wurde\",\"würde\",\"wurden\",\"würden\",\"x\",\"y\",\"z\",\"z.b\",\"zehn\",\"zehnte\",\"zehnten\",\"zehnter\",\"zehntes\",\"zeit\",\"zu\",\"zuerst\",\"zugleich\",\"zum\",\"zunächst\",\"zur\",\"zurück\",\"zusammen\",\"zwanzig\",\"zwar\",\"zwei\",\"zweite\",\"zweiten\",\"zweiter\",\"zweites\",\"zwischen\",\"zwölf\",\"euer\",\"eure\",\"hattest\",\"hattet\",\"jedes\",\"mußt\",\"müßt\",\"sollst\",\"sollt\",\"soweit\",\"weshalb\",\"wieso\",\"woher\",\"wohin\"]"
   ]
  },
  {
   "cell_type": "code",
   "execution_count": 17,
   "id": "a444091c",
   "metadata": {},
   "outputs": [],
   "source": [
    "number_dictionary = {\"1\" : \"one\", \"2\" : \"two\", \"3\": \"three\", \"4\" : \"four\", \"5\": \"five\", \"6\": \"six\", \"7\" : \"seven\", \"8\": \"eight\", \"9\":\"nine\", \"0\":\"zero\"}\n",
    "dictionary  = {\"'cause\": 'because',\n",
    " \"'s\": 'is',\n",
    " \"'tis\": 'it is',\n",
    " \"'twas\": 'it was',\n",
    " \"Ha'ta\": 'even',\n",
    " \"I'd\": 'I had',\n",
    " \"I'll\": 'I shall',\n",
    " \"I'm\": 'I am',\n",
    " \"I'm'a\": 'I am about to',\n",
    " \"I'm'o\": 'I am going to',\n",
    " \"I've\": 'I have',\n",
    " \"S'e\": 'oh yeah',\n",
    " \"ain't\": 'am not',\n",
    " \"aren't\": 'are not',\n",
    " \"cain't\": 'cannot',\n",
    " \"can't\": 'cannot',\n",
    " \"could've\": 'could have',\n",
    " \"couldn't\": 'could not',\n",
    " \"couldn't've\": 'could not have',\n",
    " \"daren't\": 'dare not',\n",
    " \"daresn't\": 'dare not',\n",
    " \"dasn't\": 'dare not',\n",
    " \"didn't\": 'did not',\n",
    " \"doesn't\": 'does not',\n",
    " \"don't\": 'do not',\n",
    " \"e'er\": 'ever',\n",
    " \"everyone's\": 'everyone is',\n",
    " 'finna': 'fixing to',\n",
    " 'gimme': 'give me',\n",
    " \"giv'n\": 'given',\n",
    " \"gon't\": 'go not',\n",
    " 'gonna': 'going to',\n",
    " 'gotta': 'got to',\n",
    " \"hadn't\": 'had not',\n",
    " \"hasn't\": 'is not',\n",
    " \"haven't\": 'have not',\n",
    " \"he'd\": 'he had',\n",
    " \"he'll\": 'he shall',\n",
    " \"he's\": 'he is',\n",
    " \"he've\": 'he have',\n",
    " \"how'd\": 'how did',\n",
    " \"how'll\": 'how will',\n",
    " \"how're\": 'how are',\n",
    " \"how's\": 'how is',\n",
    " 'howdy': 'how do you do',\n",
    " \"isn't\": 'is not',\n",
    " \"it'd\": 'it would',\n",
    " \"it'll\": 'it shall',\n",
    " \"it's\": 'it is',\n",
    " \"let's\": 'let us',\n",
    " \"ma'am\": 'madam',\n",
    " \"may've\": 'may have',\n",
    " \"mayn't\": 'may not',\n",
    " \"might've\": 'might have',\n",
    " \"mightn't\": 'might not',\n",
    " \"must've\": 'must have',\n",
    " \"mustn't\": 'must not',\n",
    " \"mustn't've\": 'must not have',\n",
    " \"ne'er\": 'never',\n",
    " \"needn't\": 'need not',\n",
    " \"o'clock\": 'of the clock',\n",
    " \"o'er\": 'over',\n",
    " \"ol'\": 'old',\n",
    " \"oughtn't\": 'ought not',\n",
    " 'rarely': 'cannot',\n",
    " \"shalln't\": 'shall not',\n",
    " \"shan't\": 'shall not',\n",
    " \"she'd\": 'she had',\n",
    " \"she'll\": 'she shall',\n",
    " \"she's\": 'she is',\n",
    " \"should've\": 'should have',\n",
    " \"shouldn't\": 'should not',\n",
    " \"shouldn't've\": 'should not have',\n",
    " \"so're\": 'so are',\n",
    " \"somebody's\": 'somebody is',\n",
    " \"someone's\": 'someone is',\n",
    " \"something's\": 'something is',\n",
    " \"that'd\": 'that would',\n",
    " \"that'll\": 'that shall',\n",
    " \"that're\": 'that are',\n",
    " \"that's\": 'that is',\n",
    " \"there'd\": 'there had',\n",
    " \"there'll\": 'there shall',\n",
    " \"there're\": 'there are',\n",
    " \"there's\": 'there is',\n",
    " \"these're\": 'these are',\n",
    " \"they'd\": 'they had',\n",
    " \"they'll\": 'they shall',\n",
    " \"they're\": 'they are',\n",
    " \"they've\": 'they have',\n",
    " \"this's\": 'this is',\n",
    " \"those're\": 'those are',\n",
    " \"to've\": 'to have',\n",
    " \"wasn't\": 'was not',\n",
    " \"we'd\": 'we had',\n",
    " \"we'd've\": 'we would have',\n",
    " \"we'll\": 'we will',\n",
    " \"we're\": 'we are',\n",
    " \"we've\": 'we have',\n",
    " \"weren't\": 'were not',\n",
    " \"what'd\": 'what did',\n",
    " \"what'll\": 'what shall',\n",
    " \"what're\": 'what are',\n",
    " \"what's\": 'what is',\n",
    " \"what've\": 'what have',\n",
    " \"when's\": 'when is',\n",
    " \"where'd\": 'where did',\n",
    " \"where're\": 'where are',\n",
    " \"where's\": 'where is',\n",
    " \"where've\": 'where have',\n",
    " \"which's\": 'which is',\n",
    " \"who'd\": 'who would',\n",
    " \"who'd've\": 'who would have',\n",
    " \"who'll\": 'who shall',\n",
    " \"who're\": 'who are',\n",
    " \"who's\": 'who is',\n",
    " \"who've\": 'who have',\n",
    " \"whom'st\": 'whom hast',\n",
    " \"whom'st'd've\": 'whom hast had have',\n",
    " \"why'd\": 'why did',\n",
    " \"why're\": 'why are',\n",
    " \"why's\": 'why is',\n",
    " \"won't\": 'will not',\n",
    " \"would've\": 'would have',\n",
    " \"wouldn't\": 'would not',\n",
    " \"y'all\": 'you all',\n",
    " \"y'all'd've\": 'you all would have',\n",
    " \"you'd\": 'you had',\n",
    " \"you'll\": 'you shall',\n",
    " \"you're\": 'you are',\n",
    " \"you've\": 'you have'}"
   ]
  },
  {
   "cell_type": "code",
   "execution_count": 4,
   "id": "c01d2e0b",
   "metadata": {},
   "outputs": [],
   "source": [
    "import os\n",
    "\n",
    "def create_df(input_file):\n",
    "\n",
    "    list_title = []\n",
    "    list_category = []\n",
    "    list_transcript = []\n",
    "    list_of_comments_comment = []\n",
    "\n",
    "    num_channels = 0\n",
    "    with open(input_file, 'r') as fin:\n",
    "        for line in fin:\n",
    "            channel_videos = json.loads(line.rstrip())\n",
    "\n",
    "            num_channels += 1\n",
    "\n",
    "            for video in channel_videos['video_ids']:\n",
    "\n",
    "                list_comment = []\n",
    "                list_title.append(video['title'])\n",
    "                list_category.append(video['category'])\n",
    "                list_transcript.append(video['transcript'])\n",
    "\n",
    "                if isinstance(video['top_comment_list'], list):\n",
    "                    if len(video['top_comment_list']) > 0:\n",
    "                        for comments in video['top_comment_list']:\n",
    "                            list_comment.append(comments['comment'])\n",
    "\n",
    "                # if there are no comments in the entire channel\n",
    "                if len(list_comment) > 0:\n",
    "                    list_of_comments_comment.append(list_comment)\n",
    "                else:\n",
    "                    list_of_comments_comment.append([\"NA\"])\n",
    "                    \n",
    "                    \n",
    "    vid_comment_df = pd.DataFrame(\n",
    "        {'Video Title': list_title,\n",
    "         'Category': list_category,\n",
    "         'Transcript': list_transcript,\n",
    "         'Comments': list_of_comments_comment\n",
    "        })\n",
    "    \n",
    "    print(\"List of titles: {} | Categories: {} | Transcript List: {} | comments list len: {}\".format(len(list_title), len(list_category), len(list_transcript), len(list_of_comments_comment)))\n",
    "    print(\"Number of channels: {}\".format(num_channels))\n",
    "    \n",
    "    return vid_comment_df\n",
    "\n",
    "def count_comments(comments_df):\n",
    "    # to count the number of comments\n",
    "    len_comments = 0\n",
    "    for s in comments_df[\"Comments\"]:\n",
    "\n",
    "        if \"NA\" not in s:\n",
    "            len_comments += len(s)\n",
    "\n",
    "    print(\"Total number of comments YT channel: {}\".format(len_comments))\n",
    "\n",
    "def calculate_hashtags(comment_df):\n",
    "    text = \" \".join([\" \".join(s)  if isinstance(s,list) else s for s in comment_df[\"Comments\"]])\n",
    "    text = text.replace(\"NA\",\"\")\n",
    "    \n",
    "    hastags = set([i[1:] for i in text.split() if i.startswith(\"#\")])\n",
    "\n",
    "    hastags = [str(s) for s in hastags]\n",
    "    \n",
    "    print(\"Number of unique hashtags: {}\".format(len(hastags)))\n",
    "\n",
    "    return text, hastags\n",
    "\n",
    "# Review the questions:\n",
    "def mappingWords(questions,dictionary):\n",
    "    return \" \".join([dictionary.get(w,w) for w in questions.split()])\n",
    "\n",
    "def comment_cloud(leaning, text, dictionary):\n",
    "\n",
    "    text = mappingWords(text, dictionary)\n",
    "    text = text.lower()\n",
    "    text = mappingWords(text, dictionary)\n",
    "    text = re.sub(r\"[^A-Za-z0-9 ]\", \"\", text)\n",
    "\n",
    "    # Create and generate a word cloud image:\n",
    "    stopwords = set(STOPWORDS)\n",
    "    stopwords.update(french_stop_words)\n",
    "    stopwords.update(german_stop_words)\n",
    "\n",
    "    wordcloud = WordCloud(width = 1200, height = 700,\n",
    "                          stopwords=stopwords, max_font_size=50, max_words=1000, background_color=\"black\").generate(text.lower())\n",
    "\n",
    "    # Display the generated image:\n",
    "    plt.imshow(wordcloud, interpolation='bilinear')\n",
    "    plt.axis(\"off\")\n",
    "    plt.show()\n",
    "\n",
    "    # Save the image in the img folder:\n",
    "    wordcloud.to_file(\"Cloud Comments on {} channel.png\".format(leaning))\n",
    "\n",
    "def hashtag_cloud(leaning, hastags):\n",
    "    hastags = \" \".join(hastags)\n",
    "    \n",
    "    # Create and generate a word cloud image:\n",
    "    wordcloud = WordCloud(width = 1200, height = 700,\n",
    "                          max_font_size=50, max_words=1000, background_color=\"black\").generate(hastags)\n",
    "\n",
    "    # Display the generated image:\n",
    "    plt.imshow(wordcloud, interpolation='bilinear')\n",
    "    plt.axis(\"off\")\n",
    "    plt.show()\n",
    "\n",
    "    wordcloud.to_file(\"Cloud Hashtags on {} channel.png\".format(leaning))\n"
   ]
  },
  {
   "cell_type": "code",
   "execution_count": 5,
   "id": "7898e561",
   "metadata": {},
   "outputs": [
    {
     "name": "stdout",
     "output_type": "stream",
     "text": [
      "For Left Leaning channels\n",
      "*****************************************************************************************\n",
      "For Right Leaning channels\n",
      "*****************************************************************************************\n",
      "For Center Right Leaning channels\n",
      "List of titles: 59300 | Categories: 59300 | Transcript List: 59300 | comments list len: 59300\n",
      "Number of channels: 189\n",
      "Total number of comments YT channel: 1589436\n",
      "Number of unique hashtags: 698\n",
      "*****************************************************************************************\n"
     ]
    }
   ],
   "source": [
    "print(\"For Left Leaning channels\")\n",
    "leaning = \"Left\"\n",
    "input_file = os.path.join(DIRECTORY_PATH, \"data/7. comments.json\")\n",
    "vid_comment_df = create_df(input_file)\n",
    "count_comments(vid_comment_df)\n",
    "texts, hastags = calculate_hashtags(vid_comment_df)\n",
    "# cloud for comments\n",
    "comment_cloud(leaning, texts, dictionary)\n",
    "# cloud for hashtags\n",
    "hashtag_cloud(leaning, hastags)\n",
    "print(\"*****************************************************************************************\")\n",
    "\n",
    "\"\"\"print(\"For Right Leaning channels\")\n",
    "leaning = \"Right\"\n",
    "input_file = os.path.join(DIRECTORY_PATH, \"data/7. comments RIGHT.json\")\n",
    "vid_comment_df = create_df(input_file)\n",
    "count_comments(vid_comment_df)\n",
    "texts, hastags = calculate_hashtags(vid_comment_df)\n",
    "# cloud for comments\n",
    "comment_cloud(leaning, texts, dictionary)\n",
    "# cloud for hashtags\n",
    "hashtag_cloud(leaning, hastags)\n",
    "print(\"*****************************************************************************************\")\"\"\"\n",
    "\n",
    "# this contains combined data for center right and right\n",
    "print(\"For Center Right Leaning channels\")\n",
    "leaning = \"Center Right\"\n",
    "input_file = os.path.join(DIRECTORY_PATH, \"data/7. comments CENTRE RIGHT.json\")\n",
    "vid_comment_df = create_df(input_file)\n",
    "count_comments(vid_comment_df)\n",
    "texts, hastags = calculate_hashtags(vid_comment_df)\n",
    "# cloud for comments\n",
    "comment_cloud(leaning, texts, dictionary)\n",
    "# cloud for hashtags\n",
    "hashtag_cloud(leaning, hastags)\n",
    "print(\"*****************************************************************************************\")"
   ]
  },
  {
   "cell_type": "code",
   "execution_count": null,
   "id": "44c65c71",
   "metadata": {},
   "outputs": [],
   "source": [
    "\"\"\"For Left Leaning channels\n",
    "List of titles: 34739 | Categories: 34739 | Transcript List: 34739 | comments list len: 34739\n",
    "Number of channels: 188\n",
    "Total number of comments YT channel: 4850479\n",
    "Number of unique hashtags: 6046\n",
    "    \n",
    "*****************************************************************************************\n",
    "For Center Right Leaning channels\n",
    "List of titles: 62456 | Categories: 62456 | Transcript List: 62456 | comments list len: 62456\n",
    "Number of channels: 236\n",
    "Total number of comments YT channel: 1694404\n",
    "Number of unique hashtags: 805\"\"\""
   ]
  },
  {
   "cell_type": "code",
   "execution_count": null,
   "id": "76291d5b",
   "metadata": {},
   "outputs": [],
   "source": []
  },
  {
   "cell_type": "code",
   "execution_count": null,
   "id": "9834ce29",
   "metadata": {},
   "outputs": [],
   "source": []
  },
  {
   "cell_type": "code",
   "execution_count": 297,
   "id": "e8d43837",
   "metadata": {},
   "outputs": [
    {
     "data": {
      "image/png": "[encoded data removed]",
      "text/plain": [
       "<Figure size 432x288 with 1 Axes>"
      ]
     },
     "metadata": {
      "needs_background": "light"
     },
     "output_type": "display_data"
    }
   ],
   "source": [
    "ax = comments_left[\"Category\"].hist(bins=13)\n",
    "\n",
    "fig = ax.get_figure()\n",
    "plt.xticks(rotation=90)\n",
    "\n",
    "fig.savefig('Category Left.jpg')\n",
    "plt.show()"
   ]
  },
  {
   "cell_type": "code",
   "execution_count": 294,
   "id": "451e001d",
   "metadata": {},
   "outputs": [
    {
     "data": {
      "image/png": "[encoded data removed]",
      "text/plain": [
       "<Figure size 432x288 with 1 Axes>"
      ]
     },
     "metadata": {
      "needs_background": "light"
     },
     "output_type": "display_data"
    }
   ],
   "source": [
    "ax = comments_right[\"Category\"].hist(bins=10)\n",
    "\n",
    "fig = ax.get_figure()\n",
    "plt.xticks(rotation=90)\n",
    "\n",
    "fig.savefig('Category Right.jpg')\n",
    "plt.show()"
   ]
  }
 ],
 "metadata": {
  "kernelspec": {
   "display_name": "Python 3 (ipykernel)",
   "language": "python",
   "name": "python3"
  },
  "language_info": {
   "codemirror_mode": {
    "name": "ipython",
    "version": 3
   },
   "file_extension": ".py",
   "mimetype": "text/x-python",
   "name": "python",
   "nbconvert_exporter": "python",
   "pygments_lexer": "ipython3",
   "version": "3.7.11"
  }
 },
 "nbformat": 4,
 "nbformat_minor": 5
}
